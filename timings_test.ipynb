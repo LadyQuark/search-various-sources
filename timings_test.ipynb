{
 "cells": [
  {
   "attachments": {},
   "cell_type": "markdown",
   "metadata": {},
   "source": [
    "# Test time taken"
   ]
  },
  {
   "attachments": {},
   "cell_type": "markdown",
   "metadata": {},
   "source": [
    "### Time taken to fetch 100db entries for 1 query\n",
    "\n",
    "| Type      | Time (seconds) | \n",
    "| ----------- | ----------- |\n",
    "| Podcasts      | 147.2      |\n",
    "| TED talks   | 73.1        |\n",
    "| YouTube   | 2.31        |\n",
    "| Books   | 2.72        |\n",
    "| Research   | 112.33        |\n",
    "\n",
    "Note: \n",
    "- Podcasts includes both iTunes and Spotify data. \n",
    "- Research makes separate API calls to get full text/description of each research article. \n",
    "- TED talks searches in YouTube, matches with a scraped database to get ted.com URL and makes separate API calls to TED for each video."
   ]
  },
  {
   "attachments": {},
   "cell_type": "markdown",
   "metadata": {},
   "source": [
    "## Podcasts"
   ]
  },
  {
   "cell_type": "code",
   "execution_count": 2,
   "metadata": {},
   "outputs": [
    {
     "name": "stdout",
     "output_type": "stream",
     "text": [
      "[===========================================================-] 99.0% ...ADHD\r"
     ]
    },
    {
     "data": {
      "text/plain": [
       "1471.9261393330526"
      ]
     },
     "execution_count": 2,
     "metadata": {},
     "output_type": "execute_result"
    }
   ],
   "source": [
    "import timeit\n",
    "\n",
    "setup = '''\n",
    "from podcasts import podcast_eps_search_and_transform\n",
    "query = \"ADHD\"\n",
    "'''\n",
    "\n",
    "stmt = '''\n",
    "results = podcast_eps_search_and_transform(query, 100)\n",
    "'''\n",
    "timeit.timeit(stmt=stmt, setup=setup, number=10)"
   ]
  },
  {
   "attachments": {},
   "cell_type": "markdown",
   "metadata": {},
   "source": [
    "Time taken to get 100 db entries for query: 147s = 2.45 mins\n",
    "\n",
    "\\* iTunes + Spotify"
   ]
  },
  {
   "attachments": {},
   "cell_type": "markdown",
   "metadata": {},
   "source": [
    "## Tedtalks"
   ]
  },
  {
   "cell_type": "code",
   "execution_count": 4,
   "metadata": {},
   "outputs": [
    {
     "data": {
      "text/plain": [
       "731.0466495410074"
      ]
     },
     "execution_count": 4,
     "metadata": {},
     "output_type": "execute_result"
    }
   ],
   "source": [
    "import timeit\n",
    "\n",
    "setup = '''\n",
    "from tedtalks import ted_youtube_search_and_transform\n",
    "query = \"ADHD\"\n",
    "'''\n",
    "\n",
    "stmt = '''\n",
    "results = ted_youtube_search_and_transform(query, 100)\n",
    "'''\n",
    "timeit.timeit(stmt=stmt, setup=setup, number=10)"
   ]
  },
  {
   "attachments": {},
   "cell_type": "markdown",
   "metadata": {},
   "source": [
    "Time taken to get 100 db entries for query: 731s = 1.22 mins"
   ]
  },
  {
   "attachments": {},
   "cell_type": "markdown",
   "metadata": {},
   "source": [
    "## Youtube"
   ]
  },
  {
   "cell_type": "code",
   "execution_count": 1,
   "metadata": {},
   "outputs": [
    {
     "data": {
      "text/plain": [
       "23.117307665990666"
      ]
     },
     "execution_count": 1,
     "metadata": {},
     "output_type": "execute_result"
    }
   ],
   "source": [
    "import timeit\n",
    "\n",
    "setup = '''\n",
    "from videos import youtube_search_and_transform\n",
    "query = \"ADHD\"\n",
    "'''\n",
    "\n",
    "stmt = '''\n",
    "results = youtube_search_and_transform(query, 100)\n",
    "'''\n",
    "timeit.timeit(stmt=stmt, setup=setup, number=10)"
   ]
  },
  {
   "attachments": {},
   "cell_type": "markdown",
   "metadata": {},
   "source": [
    "Time taken to get 100 db entries for query | 2.31s"
   ]
  },
  {
   "attachments": {},
   "cell_type": "markdown",
   "metadata": {},
   "source": [
    "## Books"
   ]
  },
  {
   "cell_type": "code",
   "execution_count": 6,
   "metadata": {},
   "outputs": [
    {
     "name": "stdout",
     "output_type": "stream",
     "text": [
      "Exception No description found\n",
      "Exception No description found\n",
      "Exception No description found\n",
      "Exception No description found\n",
      "Exception No description found\n",
      "Exception No description found\n",
      "Exception No description found\n",
      "Exception No description found\n",
      "Exception No description found\n",
      "Exception No description found\n",
      "Exception No description found\n",
      "Exception No description found\n",
      "Exception No description found\n",
      "Exception No description found\n",
      "Exception No description found\n",
      "Exception No description found\n",
      "Exception No description found\n",
      "Exception No description found\n",
      "Exception No description found\n",
      "Exception No description found\n",
      "Exception No description found\n",
      "Exception No description found\n",
      "Exception No description found\n",
      "Exception No description found\n",
      "Exception No description found\n",
      "Exception No description found\n",
      "Exception No description found\n",
      "Exception No description found\n",
      "Exception No description found\n",
      "Exception No description found\n"
     ]
    },
    {
     "data": {
      "text/plain": [
       "27.21428716694936"
      ]
     },
     "execution_count": 6,
     "metadata": {},
     "output_type": "execute_result"
    }
   ],
   "source": [
    "import timeit\n",
    "\n",
    "setup = '''\n",
    "from books import books_search_and_transform\n",
    "query = \"ADHD\"\n",
    "'''\n",
    "\n",
    "stmt = '''\n",
    "results = books_search_and_transform(query, 100)\n",
    "'''\n",
    "timeit.timeit(stmt=stmt, setup=setup, number=10)"
   ]
  },
  {
   "attachments": {},
   "cell_type": "markdown",
   "metadata": {},
   "source": [
    "Time taken to get 100 db entries for query: 2.72s"
   ]
  },
  {
   "attachments": {},
   "cell_type": "markdown",
   "metadata": {},
   "source": [
    "## Research"
   ]
  },
  {
   "cell_type": "code",
   "execution_count": 1,
   "metadata": {},
   "outputs": [
    {
     "name": "stdout",
     "output_type": "stream",
     "text": [
      "Resource not found for S0033291721001574====-----------------] 72.0% ...\n",
      "Resource not found for S0033291721001951=====----------------] 74.0% ...\n",
      "Resource not found for S0007125022001398======---------------] 75.0% ...\n",
      "Resource not found for 10088830202301009806====--------------] 76.0% ...\n",
      "Resource not found for S0007125022000770=========------------] 80.0% ...\n",
      "Resource not found for S0033291721001859==========-----------] 82.0% ...\n",
      "Resource not found for S1355617721001491===========----------] 84.0% ...\n",
      "Resource not found for e2022057745=========================--] 97.0% ...\n",
      "Resource not found for S0033291721001574====-----------------] 72.0% ....\n",
      "Resource not found for S0033291721001951=====----------------] 74.0% ...\n",
      "Resource not found for S0007125022001398======---------------] 75.0% ...\n",
      "Resource not found for 10088830202301009806====--------------] 76.0% ...\n",
      "Resource not found for S0007125022000770=========------------] 80.0% ...\n",
      "Resource not found for S0033291721001859==========-----------] 82.0% ...\n",
      "Resource not found for S1355617721001491===========----------] 84.0% ...\n",
      "Resource not found for e2022057745=========================--] 97.0% ...\n",
      "Resource not found for S0033291721001574====-----------------] 72.0% ....\n",
      "Resource not found for S0033291721001951=====----------------] 74.0% ...\n",
      "Resource not found for S0007125022001398======---------------] 75.0% ...\n",
      "Resource not found for 10088830202301009806====--------------] 76.0% ...\n",
      "Resource not found for S0007125022000770=========------------] 80.0% ...\n",
      "Resource not found for S0033291721001859==========-----------] 82.0% ...\n",
      "Resource not found for S1355617721001491===========----------] 84.0% ...\n",
      "Resource not found for e2022057745=========================--] 97.0% ...\n",
      "Resource not found for S0033291721001574====-----------------] 72.0% ....\n",
      "Resource not found for S0033291721001951=====----------------] 74.0% ...\n",
      "Resource not found for S0007125022001398======---------------] 75.0% ...\n",
      "Resource not found for 10088830202301009806====--------------] 76.0% ...\n",
      "Resource not found for S0007125022000770=========------------] 80.0% ...\n",
      "Resource not found for S0033291721001859==========-----------] 82.0% ...\n",
      "Resource not found for S1355617721001491===========----------] 84.0% ...\n",
      "Resource not found for e2022057745=========================--] 97.0% ...\n",
      "Resource not found for S0033291721001574====-----------------] 72.0% ....\n",
      "Resource not found for S0033291721001951=====----------------] 74.0% ...\n",
      "Resource not found for S0007125022001398======---------------] 75.0% ...\n",
      "Resource not found for 10088830202301009806====--------------] 76.0% ...\n",
      "Resource not found for S0007125022000770=========------------] 80.0% ...\n",
      "Resource not found for S0033291721001859==========-----------] 82.0% ...\n",
      "Resource not found for S1355617721001491===========----------] 84.0% ...\n",
      "Resource not found for e2022057745=========================--] 97.0% ...\n",
      "Resource not found for S0033291721001574====-----------------] 72.0% ....\n",
      "Resource not found for S0033291721001951=====----------------] 74.0% ...\n",
      "Resource not found for S0007125022001398======---------------] 75.0% ...\n",
      "Resource not found for 10088830202301009806====--------------] 76.0% ...\n",
      "Resource not found for S0007125022000770=========------------] 80.0% ...\n",
      "Resource not found for S0033291721001859==========-----------] 82.0% ...\n",
      "Resource not found for S1355617721001491===========----------] 84.0% ...\n",
      "Resource not found for e2022057745=========================--] 97.0% ...\n",
      "Resource not found for S0033291721001574====-----------------] 72.0% ....\n",
      "Resource not found for S0033291721001951=====----------------] 74.0% ...\n",
      "Resource not found for S0007125022001398======---------------] 75.0% ...\n",
      "Resource not found for 10088830202301009806====--------------] 76.0% ...\n",
      "Resource not found for S0007125022000770=========------------] 80.0% ...\n",
      "Resource not found for S0033291721001859==========-----------] 82.0% ...\n",
      "Resource not found for S1355617721001491===========----------] 84.0% ...\n",
      "Resource not found for e2022057745=========================--] 97.0% ...\n",
      "Resource not found for S0033291721001574====-----------------] 72.0% ....\n",
      "Resource not found for S0033291721001951=====----------------] 74.0% ...\n",
      "Resource not found for S0007125022001398======---------------] 75.0% ...\n",
      "Resource not found for 10088830202301009806====--------------] 76.0% ...\n",
      "Resource not found for S0007125022000770=========------------] 80.0% ...\n",
      "Resource not found for S0033291721001859==========-----------] 82.0% ...\n",
      "Resource not found for S1355617721001491===========----------] 84.0% ...\n",
      "Resource not found for e2022057745=========================--] 97.0% ...\n",
      "Resource not found for S0033291721001574====-----------------] 72.0% ....\n",
      "Resource not found for S0033291721001951=====----------------] 74.0% ...\n",
      "Resource not found for S0007125022001398======---------------] 75.0% ...\n",
      "Resource not found for 10088830202301009806====--------------] 76.0% ...\n",
      "Resource not found for S0007125022000770=========------------] 80.0% ...\n",
      "Resource not found for S0033291721001859==========-----------] 82.0% ...\n",
      "Resource not found for S1355617721001491===========----------] 84.0% ...\n",
      "Resource not found for e2022057745=========================--] 97.0% ...\n",
      "Resource not found for S0033291721001574====-----------------] 72.0% ....\n",
      "Resource not found for S0033291721001951=====----------------] 74.0% ...\n",
      "Resource not found for S0007125022001398======---------------] 75.0% ...\n",
      "Resource not found for 10088830202301009806====--------------] 76.0% ...\n",
      "Resource not found for S0007125022000770=========------------] 80.0% ...\n",
      "Resource not found for S0033291721001859==========-----------] 82.0% ...\n",
      "Resource not found for S1355617721001491===========----------] 84.0% ...\n",
      "Resource not found for e2022057745=========================--] 97.0% ...\n",
      "[============================================================] 100.0% ...\r"
     ]
    },
    {
     "data": {
      "text/plain": [
       "1123.384084291989"
      ]
     },
     "execution_count": 1,
     "metadata": {},
     "output_type": "execute_result"
    }
   ],
   "source": [
    "import timeit\n",
    "\n",
    "setup = '''\n",
    "from research import research_search_and_transform\n",
    "query = \"ADHD\"\n",
    "'''\n",
    "\n",
    "stmt = '''\n",
    "results = research_search_and_transform(query, 100)\n",
    "'''\n",
    "timeit.timeit(stmt=stmt, setup=setup, number=10)"
   ]
  },
  {
   "attachments": {},
   "cell_type": "markdown",
   "metadata": {},
   "source": [
    "Time taken to get 100 db entries for query: 112.33s = 1.87 min"
   ]
  }
 ],
 "metadata": {
  "kernelspec": {
   "display_name": "venv",
   "language": "python",
   "name": "python3"
  },
  "language_info": {
   "codemirror_mode": {
    "name": "ipython",
    "version": 3
   },
   "file_extension": ".py",
   "mimetype": "text/x-python",
   "name": "python",
   "nbconvert_exporter": "python",
   "pygments_lexer": "ipython3",
   "version": "3.10.8"
  },
  "orig_nbformat": 4,
  "vscode": {
   "interpreter": {
    "hash": "4f482a5d61467aaaf9ebb24508841ca7d397646276b9655af7382422503ce943"
   }
  }
 },
 "nbformat": 4,
 "nbformat_minor": 2
}
